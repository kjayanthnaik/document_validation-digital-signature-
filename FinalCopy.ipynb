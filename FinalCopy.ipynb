{
 "cells": [
  {
   "cell_type": "code",
   "execution_count": 8,
   "id": "b3278c27",
   "metadata": {},
   "outputs": [],
   "source": [
    "from tkinter import *\n",
    "from tkinter import filedialog"
   ]
  },
  {
   "cell_type": "code",
   "execution_count": 9,
   "id": "5beaf66a",
   "metadata": {},
   "outputs": [
    {
     "name": "stdout",
     "output_type": "stream",
     "text": [
      "Public key:  (n=0xb6bf1aabcdd9871e5ec51161399fa139aa0c9bd7869daedef0298c5b925bf69fdcf08d39d14e552c680a94df3e00aacc9fd4470b54515aa38fd4c1ee133393b9d89c6af9fff3a8b13b3c8a6e09cb20a077a9c9654c1bb87f51e32a4fc9a2dd9ac9695045240f9e172626353cfc0822d572b502b912bf05856b657aec8f0d0bad, e=0x10001)\n",
      "Private key: (n=0xb6bf1aabcdd9871e5ec51161399fa139aa0c9bd7869daedef0298c5b925bf69fdcf08d39d14e552c680a94df3e00aacc9fd4470b54515aa38fd4c1ee133393b9d89c6af9fff3a8b13b3c8a6e09cb20a077a9c9654c1bb87f51e32a4fc9a2dd9ac9695045240f9e172626353cfc0822d572b502b912bf05856b657aec8f0d0bad, d=0x4809691014630d3a518d495e940272e17240ea25b970eb000297be3652a961bc7eb16c5a4041aa9d889db33595115a42b33650930cb7cd0cf0a3a3969f871351e2a47ce03b7856d4f8817b1bfdf9566255a4dca5148be599b8144700b435e47861e2d5c17860c5ee06f41575ed462afd1d09c30af0d3f27a27afc9a44ac51a19)\n"
     ]
    }
   ],
   "source": [
    "from Crypto.PublicKey import RSA\n",
    "from Crypto.Signature.pkcs1_15 import PKCS115_SigScheme\n",
    "from Crypto.Hash import SHA256\n",
    "import binascii\n",
    "# Generate 1024-bit RSA key pair (private + public key)\n",
    "keyPair = RSA.generate(bits=1024)\n",
    "print(f\"Public key:  (n={hex(keyPair.n)}, e={hex(keyPair.e)})\")\n",
    "print(f\"Private key: (n={hex(keyPair.n)}, d={hex(keyPair.d)})\")\n",
    "# Sign the message using the PKCS#1 v1.5 signature scheme (RSASP1)\n",
    "#msg = b'A message for signing'\n"
   ]
  },
  {
   "cell_type": "code",
   "execution_count": 12,
   "id": "38289a44",
   "metadata": {},
   "outputs": [],
   "source": [
    "def opena():\n",
    "    text_file= filedialog.askopenfilename(initialdir=\"C:/Users/jayanth/Desktop/srp2/\",title=\"Open Text File\")\n",
    "    with open(\"C:/Users/jayanth/Desktop/srp2/main.txt\", 'rb') as msg:\n",
    "        msg=msg.read()\n",
    "        my_text.insert(END,msg)\n",
    "def signa():\n",
    "    with open(\"C:/Users/jayanth/Desktop/srp2/main.txt\", 'rb') as msg:\n",
    "        msg=msg.read()\n",
    "        \n",
    "        msg=msg.strip()\n",
    "        hash = SHA256.new(msg)\n",
    "        signer = PKCS115_SigScheme(keyPair)\n",
    "        signature = signer.sign(hash)\n",
    "        \n",
    "        return signature\n",
    "        #print(\"Signature:\", binascii.hexlify(signature))\n",
    "# Verify valid PKCS#1 v1.5 signature (RSAVP1)\n"
   ]
  },
  {
   "cell_type": "code",
   "execution_count": 13,
   "id": "c25e4381",
   "metadata": {},
   "outputs": [],
   "source": [
    "signature=signa()\n",
    "def verifya():\n",
    "    \n",
    "    msg1 = my_text.get(1.0, \"end-1c\")\n",
    "    with open(\"C:/Users/jayanth/Desktop/srp2/verify.txt\", 'w') as msg:\n",
    "        msg.write(msg1)\n",
    "    with open(\"C:/Users/jayanth/Desktop/srp2/verify.txt\", 'rb') as msg2:\n",
    "        msg2=msg2.read()\n",
    "        msg2=msg2.strip()\n",
    "        hash = SHA256.new(msg2)\n",
    "        signer = PKCS115_SigScheme(keyPair)\n",
    "        signature2= signer.sign(hash)\n",
    "        if signature==signature2:\n",
    "            \n",
    "            #print(signer.verify(hash, signature))\n",
    "            lbl.config(text = \"Signature is valid.\")\n",
    "        else:\n",
    "            lbl.config(text = \"Signature is invalid.\")\n",
    "        \n"
   ]
  },
  {
   "cell_type": "code",
   "execution_count": null,
   "id": "9385264a",
   "metadata": {},
   "outputs": [],
   "source": [
    "root=Tk()\n",
    "root.title(\"SRP_2\")\n",
    "root.geometry(\"500x500\")\n",
    "my_text = Text(root,width=40,height=10,font=(\"Helvetica\",16))\n",
    "my_text.pack(pady=20)\n",
    "open_button = Button(root,text=\"Open Text File\",command=opena)\n",
    "open_button.pack(pady=20)\n",
    "lbl = Label(root, text = \"\")\n",
    "lbl.pack()\n",
    "verify_button = Button(root,text=\"verify\",command=verifya)\n",
    "\n",
    "verify_button.pack(pady=20)\n",
    "root.mainloop()"
   ]
  },
  {
   "cell_type": "code",
   "execution_count": null,
   "id": "9bf7f0fd",
   "metadata": {},
   "outputs": [],
   "source": [
    "print"
   ]
  }
 ],
 "metadata": {
  "kernelspec": {
   "display_name": "Python 3",
   "language": "python",
   "name": "python3"
  },
  "language_info": {
   "codemirror_mode": {
    "name": "ipython",
    "version": 3
   },
   "file_extension": ".py",
   "mimetype": "text/x-python",
   "name": "python",
   "nbconvert_exporter": "python",
   "pygments_lexer": "ipython3",
   "version": "3.8.8"
  }
 },
 "nbformat": 4,
 "nbformat_minor": 5
}
